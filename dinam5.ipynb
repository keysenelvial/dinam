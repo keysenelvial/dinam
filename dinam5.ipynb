{
  "nbformat": 4,
  "nbformat_minor": 0,
  "metadata": {
    "colab": {
      "provenance": [],
      "mount_file_id": "1FdwrF4DwH-2aum_RnncU-mVLmsf4OCnX",
      "authorship_tag": "ABX9TyMiB+BsCj0c1sBcJbT9gI7k",
      "include_colab_link": true
    },
    "kernelspec": {
      "name": "python3",
      "display_name": "Python 3"
    },
    "language_info": {
      "name": "python"
    }
  },
  "cells": [
    {
      "cell_type": "markdown",
      "metadata": {
        "id": "view-in-github",
        "colab_type": "text"
      },
      "source": [
        "<a href=\"https://colab.research.google.com/github/keysenelvial/dinam/blob/main/dinam5.ipynb\" target=\"_parent\"><img src=\"https://colab.research.google.com/assets/colab-badge.svg\" alt=\"Open In Colab\"/></a>"
      ]
    },
    {
      "cell_type": "markdown",
      "source": [
        "**Лабораторная работа №5**"
      ],
      "metadata": {
        "id": "RcUU3nmz9ro7"
      }
    },
    {
      "cell_type": "markdown",
      "source": [
        "Провести классификацию найденного датасета, методами решающего дерева и случайного леса."
      ],
      "metadata": {
        "id": "Pxs4POuj96St"
      }
    },
    {
      "cell_type": "code",
      "execution_count": 1,
      "metadata": {
        "colab": {
          "base_uri": "https://localhost:8080/"
        },
        "id": "tfhTD3dleKCV",
        "outputId": "dc2ef380-c869-4c77-ba0e-6b6567aa6b86"
      },
      "outputs": [
        {
          "output_type": "stream",
          "name": "stdout",
          "text": [
            "         id  log_price property_type        room_type  \\\n",
            "0   6901257   5.010635     Apartment  Entire home/apt   \n",
            "1   6304928   5.129899     Apartment  Entire home/apt   \n",
            "2   7919400   4.976734     Apartment  Entire home/apt   \n",
            "3  13418779   6.620073         House  Entire home/apt   \n",
            "4   3808709   4.744932     Apartment  Entire home/apt   \n",
            "\n",
            "                                           amenities  accommodates  bathrooms  \\\n",
            "0  {\"Wireless Internet\",\"Air conditioning\",Kitche...             3        1.0   \n",
            "1  {\"Wireless Internet\",\"Air conditioning\",Kitche...             7        1.0   \n",
            "2  {TV,\"Cable TV\",\"Wireless Internet\",\"Air condit...             5        1.0   \n",
            "3  {TV,\"Cable TV\",Internet,\"Wireless Internet\",Ki...             4        1.0   \n",
            "4  {TV,Internet,\"Wireless Internet\",\"Air conditio...             2        1.0   \n",
            "\n",
            "   bed_type cancellation_policy  cleaning_fee  ...   latitude   longitude  \\\n",
            "0  Real Bed              strict          True  ...  40.696524  -73.991617   \n",
            "1  Real Bed              strict          True  ...  40.766115  -73.989040   \n",
            "2  Real Bed            moderate          True  ...  40.808110  -73.943756   \n",
            "3  Real Bed            flexible          True  ...  37.772004 -122.431619   \n",
            "4  Real Bed            moderate          True  ...  38.925627  -77.034596   \n",
            "\n",
            "                                       name     neighbourhood  \\\n",
            "0            Beautiful brownstone 1-bedroom  Brooklyn Heights   \n",
            "1  Superb 3BR Apt Located Near Times Square    Hell's Kitchen   \n",
            "2                          The Garden Oasis            Harlem   \n",
            "3        Beautiful Flat in the Heart of SF!      Lower Haight   \n",
            "4                Great studio in midtown DC  Columbia Heights   \n",
            "\n",
            "  number_of_reviews review_scores_rating  \\\n",
            "0                 2                100.0   \n",
            "1                 6                 93.0   \n",
            "2                10                 92.0   \n",
            "3                 0                  NaN   \n",
            "4                 4                 40.0   \n",
            "\n",
            "                                       thumbnail_url  zipcode bedrooms  beds  \n",
            "0  https://a0.muscache.com/im/pictures/6d7cbbf7-c...    11201      1.0   1.0  \n",
            "1  https://a0.muscache.com/im/pictures/348a55fe-4...    10019      3.0   3.0  \n",
            "2  https://a0.muscache.com/im/pictures/6fae5362-9...    10027      1.0   3.0  \n",
            "3  https://a0.muscache.com/im/pictures/72208dad-9...  94117.0      2.0   2.0  \n",
            "4                                                NaN    20009      0.0   1.0  \n",
            "\n",
            "[5 rows x 29 columns]\n"
          ]
        }
      ],
      "source": [
        "import numpy as np\n",
        "import pandas as pd\n",
        "import matplotlib.pyplot as plt\n",
        "from sklearn.tree import DecisionTreeClassifier\n",
        "from sklearn.ensemble import RandomForestClassifier\n",
        "from sklearn.preprocessing import StandardScaler\n",
        "from sklearn.metrics import accuracy_score, classification_report\n",
        "from sklearn.model_selection import train_test_split, GridSearchCV\n",
        "from sklearn.pipeline import Pipeline\n",
        "from sklearn.metrics import make_scorer, accuracy_score\n",
        "import numpy as np\n",
        "import matplotlib.pyplot as plt\n",
        "\n",
        "data = pd.read_csv('/content/drive/MyDrive/train 3.csv', on_bad_lines='skip')\n",
        "print(data.head())\n",
        "\n",
        "# Предобработка данных\n",
        "data = data[['log_price', 'accommodates', 'bathrooms', 'bedrooms', 'beds', 'review_scores_rating', 'property_type']].dropna()\n",
        "# Разделение цены на категории по квантилям\n",
        "data['price_category'] = pd.qcut(data['log_price'], q=4, labels=False)\n",
        "\n",
        "# Уменьшение размера датасета: выбор 15% случайных строк\n",
        "sampled_data = data.sample(frac=0.15, random_state=42)\n",
        "\n",
        "# Подготовка признаков и целевой переменной\n",
        "X = sampled_data[['accommodates', 'bathrooms', 'bedrooms', 'beds']]\n",
        "y = sampled_data['price_category']\n",
        "\n",
        "# Разделение данных\n",
        "X_train, X_test, y_train, y_test = train_test_split(X, y, test_size=0.2, random_state=42)\n"
      ]
    },
    {
      "cell_type": "code",
      "source": [
        "# Пайплайны для разных классификаторов\n",
        "pipe_dt = Pipeline([\n",
        "    ('scaler', StandardScaler()),\n",
        "    ('clf', DecisionTreeClassifier(random_state=42))\n",
        "])\n",
        "\n",
        "pipe_rf = Pipeline([\n",
        "    ('scaler', StandardScaler()),\n",
        "    ('clf', RandomForestClassifier(random_state=42))\n",
        "])"
      ],
      "metadata": {
        "id": "kVKYzV9CpNei"
      },
      "execution_count": 2,
      "outputs": []
    },
    {
      "cell_type": "code",
      "source": [
        "# Параметры для GridSearchCV\n",
        "params_dt = {\n",
        "    'clf__max_depth': [None, 10, 20, 30, 40, 50],\n",
        "    'clf__min_samples_split': [2, 10, 20],\n",
        "    'clf__min_samples_leaf': [1, 5, 10]\n",
        "}\n",
        "\n",
        "params_rf = {\n",
        "    'clf__n_estimators': [100, 200, 300],\n",
        "    'clf__max_depth': [None, 10, 20, 30],\n",
        "    'clf__min_samples_split': [2, 10, 20],\n",
        "    'clf__min_samples_leaf': [1, 5, 10]\n",
        "}\n",
        "\n",
        "# Выбор лучших параметров и обучение моделей\n",
        "grid_search_dt = GridSearchCV(pipe_dt, param_grid=params_dt, cv=5)\n",
        "grid_search_rf = GridSearchCV(pipe_rf, param_grid=params_rf, cv=5)\n",
        "\n",
        "grid_search_dt.fit(X_train, y_train)\n",
        "grid_search_rf.fit(X_train, y_train)\n",
        "\n",
        "print('Лучшие параметры для Decision Tree:', grid_search_dt.best_params_)\n",
        "print('Лучшие параметры для Random Forest:', grid_search_rf.best_params_)"
      ],
      "metadata": {
        "colab": {
          "base_uri": "https://localhost:8080/"
        },
        "id": "y-sAo5jopQS2",
        "outputId": "dd557034-6dce-45a4-e5e5-abaa1313843b"
      },
      "execution_count": 3,
      "outputs": [
        {
          "output_type": "stream",
          "name": "stdout",
          "text": [
            "Лучшие параметры для Decision Tree: {'clf__max_depth': None, 'clf__min_samples_leaf': 10, 'clf__min_samples_split': 2}\n",
            "Лучшие параметры для Random Forest: {'clf__max_depth': None, 'clf__min_samples_leaf': 10, 'clf__min_samples_split': 2, 'clf__n_estimators': 100}\n"
          ]
        }
      ]
    },
    {
      "cell_type": "code",
      "source": [
        "# Предсказания и отчеты для каждой модели\n",
        "y_pred_dt = grid_search_dt.predict(X_test)\n",
        "y_pred_rf = grid_search_rf.predict(X_test)\n",
        "\n",
        "print(\"Classification Report for Decision Tree:\")\n",
        "print(classification_report(y_test, y_pred_dt))\n",
        "print(\"Classification Report for Random Forest:\")\n",
        "print(classification_report(y_test, y_pred_rf))\n",
        "\n",
        "print(\"Границы категорий цен:\", pd.qcut(data['log_price'], q=4).unique())"
      ],
      "metadata": {
        "colab": {
          "base_uri": "https://localhost:8080/"
        },
        "id": "FHS_8HphpS2P",
        "outputId": "25bc8703-8713-4e90-f900-bf20e4d00138"
      },
      "execution_count": 4,
      "outputs": [
        {
          "output_type": "stream",
          "name": "stdout",
          "text": [
            "Classification Report for Decision Tree:\n",
            "              precision    recall  f1-score   support\n",
            "\n",
            "           0       0.39      0.80      0.52       404\n",
            "           1       0.32      0.05      0.09       459\n",
            "           2       0.39      0.39      0.39       423\n",
            "           3       0.66      0.58      0.62       428\n",
            "\n",
            "    accuracy                           0.45      1714\n",
            "   macro avg       0.44      0.46      0.41      1714\n",
            "weighted avg       0.44      0.45      0.40      1714\n",
            "\n",
            "Classification Report for Random Forest:\n",
            "              precision    recall  f1-score   support\n",
            "\n",
            "           0       0.39      0.81      0.53       404\n",
            "           1       0.31      0.03      0.06       459\n",
            "           2       0.39      0.39      0.39       423\n",
            "           3       0.66      0.61      0.64       428\n",
            "\n",
            "    accuracy                           0.45      1714\n",
            "   macro avg       0.44      0.46      0.40      1714\n",
            "weighted avg       0.44      0.45      0.40      1714\n",
            "\n",
            "Границы категорий цен: [(4.7, 5.165], (4.304, 4.7], (-0.001, 4.304], (5.165, 7.6]]\n",
            "Categories (4, interval[float64, right]): [(-0.001, 4.304] < (4.304, 4.7] < (4.7, 5.165] <\n",
            "                                           (5.165, 7.6]]\n"
          ]
        }
      ]
    }
  ]
}