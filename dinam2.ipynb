{
  "nbformat": 4,
  "nbformat_minor": 0,
  "metadata": {
    "colab": {
      "provenance": [],
      "mount_file_id": "1PW1pFnBv8-c3N4VVRjox6bi4bEfLkDWF",
      "authorship_tag": "ABX9TyNalNGf9asWj3sYqoSq4hhN",
      "include_colab_link": true
    },
    "kernelspec": {
      "name": "python3",
      "display_name": "Python 3"
    },
    "language_info": {
      "name": "python"
    }
  },
  "cells": [
    {
      "cell_type": "markdown",
      "metadata": {
        "id": "view-in-github",
        "colab_type": "text"
      },
      "source": [
        "<a href=\"https://colab.research.google.com/github/keysenelvial/dinam/blob/main/dinam2.ipynb\" target=\"_parent\"><img src=\"https://colab.research.google.com/assets/colab-badge.svg\" alt=\"Open In Colab\"/></a>"
      ]
    },
    {
      "cell_type": "markdown",
      "source": [
        "**Лабораторная работа №2**"
      ],
      "metadata": {
        "id": "3CNgg2jFFfyF"
      }
    },
    {
      "cell_type": "markdown",
      "source": [
        "Провести классификацию(не регрессию) найденного датасета, методом машины опорных векторов. В формате Markdown писать пояснения. Объяснить почему были выбраны именно такие гиперпараметры, была ли перекрестная проверка, и т.д."
      ],
      "metadata": {
        "id": "hWLha8YxFryR"
      }
    },
    {
      "cell_type": "code",
      "source": [
        "import numpy as np\n",
        "import pandas as pd\n",
        "import matplotlib.pyplot as plt\n",
        "from sklearn.svm import SVC\n",
        "from sklearn.preprocessing import StandardScaler\n",
        "from sklearn.metrics import accuracy_score, classification_report\n",
        "from sklearn.model_selection import train_test_split, GridSearchCV\n",
        "from sklearn.pipeline import Pipeline\n",
        "from sklearn.metrics import make_scorer, accuracy_score\n",
        "import numpy as np\n",
        "import matplotlib.pyplot as plt\n",
        "\n",
        "# Загрузка данных\n",
        "data = pd.read_csv('/content/drive/MyDrive/train 3.csv', on_bad_lines='skip')\n",
        "print(data.head())\n"
      ],
      "metadata": {
        "colab": {
          "base_uri": "https://localhost:8080/"
        },
        "id": "W_5cKXxupuCs",
        "outputId": "9e13ba63-ecc2-426f-f5d7-9d2d3465c846"
      },
      "execution_count": 8,
      "outputs": [
        {
          "output_type": "stream",
          "name": "stdout",
          "text": [
            "         id  log_price property_type        room_type  \\\n",
            "0   6901257   5.010635     Apartment  Entire home/apt   \n",
            "1   6304928   5.129899     Apartment  Entire home/apt   \n",
            "2   7919400   4.976734     Apartment  Entire home/apt   \n",
            "3  13418779   6.620073         House  Entire home/apt   \n",
            "4   3808709   4.744932     Apartment  Entire home/apt   \n",
            "\n",
            "                                           amenities  accommodates  bathrooms  \\\n",
            "0  {\"Wireless Internet\",\"Air conditioning\",Kitche...             3        1.0   \n",
            "1  {\"Wireless Internet\",\"Air conditioning\",Kitche...             7        1.0   \n",
            "2  {TV,\"Cable TV\",\"Wireless Internet\",\"Air condit...             5        1.0   \n",
            "3  {TV,\"Cable TV\",Internet,\"Wireless Internet\",Ki...             4        1.0   \n",
            "4  {TV,Internet,\"Wireless Internet\",\"Air conditio...             2        1.0   \n",
            "\n",
            "   bed_type cancellation_policy  cleaning_fee  ...   latitude   longitude  \\\n",
            "0  Real Bed              strict          True  ...  40.696524  -73.991617   \n",
            "1  Real Bed              strict          True  ...  40.766115  -73.989040   \n",
            "2  Real Bed            moderate          True  ...  40.808110  -73.943756   \n",
            "3  Real Bed            flexible          True  ...  37.772004 -122.431619   \n",
            "4  Real Bed            moderate          True  ...  38.925627  -77.034596   \n",
            "\n",
            "                                       name     neighbourhood  \\\n",
            "0            Beautiful brownstone 1-bedroom  Brooklyn Heights   \n",
            "1  Superb 3BR Apt Located Near Times Square    Hell's Kitchen   \n",
            "2                          The Garden Oasis            Harlem   \n",
            "3        Beautiful Flat in the Heart of SF!      Lower Haight   \n",
            "4                Great studio in midtown DC  Columbia Heights   \n",
            "\n",
            "  number_of_reviews review_scores_rating  \\\n",
            "0                 2                100.0   \n",
            "1                 6                 93.0   \n",
            "2                10                 92.0   \n",
            "3                 0                  NaN   \n",
            "4                 4                 40.0   \n",
            "\n",
            "                                       thumbnail_url  zipcode bedrooms  beds  \n",
            "0  https://a0.muscache.com/im/pictures/6d7cbbf7-c...    11201      1.0   1.0  \n",
            "1  https://a0.muscache.com/im/pictures/348a55fe-4...    10019      3.0   3.0  \n",
            "2  https://a0.muscache.com/im/pictures/6fae5362-9...    10027      1.0   3.0  \n",
            "3  https://a0.muscache.com/im/pictures/72208dad-9...  94117.0      2.0   2.0  \n",
            "4                                                NaN    20009      0.0   1.0  \n",
            "\n",
            "[5 rows x 29 columns]\n"
          ]
        }
      ]
    },
    {
      "cell_type": "code",
      "source": [
        "# Предобработка данных\n",
        "data = data[['log_price', 'accommodates', 'bathrooms', 'bedrooms', 'beds', 'review_scores_rating', 'property_type']].dropna()\n",
        "\n",
        "# Уменьшение размера датасета: выбор 15% случайных строк\n",
        "sampled_data = data.sample(frac=0.15, random_state=42)  # используйте random_state для воспроизводимости\n",
        "\n",
        "# Разделение цены на категории\n",
        "sampled_data['price_category'] = pd.qcut(sampled_data['log_price'], q=4, labels=False)\n",
        "\n",
        "# Подготовка признаков и целевой переменной\n",
        "X = sampled_data[['accommodates', 'bathrooms', 'bedrooms', 'beds']]\n",
        "y = sampled_data['price_category']\n",
        "\n",
        "# Разделение данных\n",
        "X_train, X_test, y_train, y_test = train_test_split(X, y, test_size=0.2, random_state=42)\n",
        "\n",
        "# Вывод границ категорий цен\n",
        "print(\"Границы категорий цен:\", pd.qcut(data['log_price'], q=4).unique())\n"
      ],
      "metadata": {
        "colab": {
          "base_uri": "https://localhost:8080/"
        },
        "id": "l7t69L3M1PRM",
        "outputId": "f892719f-dcec-4128-c54f-6a2a99e6e07d"
      },
      "execution_count": 12,
      "outputs": [
        {
          "output_type": "stream",
          "name": "stdout",
          "text": [
            "Границы категорий цен: [(4.7, 5.165], (4.304, 4.7], (-0.001, 4.304], (5.165, 7.6]]\n",
            "Categories (4, interval[float64, right]): [(-0.001, 4.304] < (4.304, 4.7] < (4.7, 5.165] <\n",
            "                                           (5.165, 7.6]]\n"
          ]
        }
      ]
    },
    {
      "cell_type": "code",
      "source": [
        "pipe = Pipeline([\n",
        "    ('scaler', StandardScaler()),\n",
        "    ('svc', SVC())\n",
        "])\n",
        "\n",
        "params = {\n",
        "    'svc__C': [0.1, 1, 10, 100],  # Диапазон для параметра регуляризации C\n",
        "    'svc__kernel': ['linear', 'poly', 'rbf', 'sigmoid']  # Разные виды ядер\n",
        "}\n",
        "\n",
        "grid_search = GridSearchCV(pipe, param_grid=params, cv=5,  n_jobs=-1)\n"
      ],
      "metadata": {
        "id": "4Ed87AyX1Wog"
      },
      "execution_count": 15,
      "outputs": []
    },
    {
      "cell_type": "code",
      "source": [
        "# Обучение модели с использованием GridSearch\n",
        "grid_search.fit(X_train, y_train)\n",
        "\n",
        "print('Лучшие параметры:', grid_search.best_params_)"
      ],
      "metadata": {
        "colab": {
          "base_uri": "https://localhost:8080/"
        },
        "id": "khe5YNk_1a7o",
        "outputId": "a2440c80-0d6e-4f0f-93bf-f58177925ca9"
      },
      "execution_count": 16,
      "outputs": [
        {
          "output_type": "stream",
          "name": "stdout",
          "text": [
            "Лучшие параметры: {'svc__C': 1, 'svc__kernel': 'rbf'}\n"
          ]
        }
      ]
    },
    {
      "cell_type": "code",
      "source": [
        "# Обучение модели с лучшими параметрами\n",
        "best_svc = grid_search.best_estimator_\n",
        "best_svc.fit(X_train, y_train)\n",
        "\n",
        "\n",
        "y_pred = best_svc.predict(X_test)\n",
        "\n",
        "\n",
        "print(classification_report(y_test, y_pred))\n",
        "\n",
        "\n",
        "print(\"Границы категорий цен:\", pd.qcut(data['log_price'], q=4).unique())"
      ],
      "metadata": {
        "colab": {
          "base_uri": "https://localhost:8080/"
        },
        "id": "kR-W_zR41hAq",
        "outputId": "8165f427-5fb6-4aaf-c1d0-49cd5a9d3bec"
      },
      "execution_count": 17,
      "outputs": [
        {
          "output_type": "stream",
          "name": "stdout",
          "text": [
            "              precision    recall  f1-score   support\n",
            "\n",
            "           0       0.39      0.80      0.52       404\n",
            "           1       0.32      0.14      0.20       459\n",
            "           2       0.39      0.27      0.32       423\n",
            "           3       0.67      0.61      0.63       428\n",
            "\n",
            "    accuracy                           0.45      1714\n",
            "   macro avg       0.44      0.46      0.42      1714\n",
            "weighted avg       0.44      0.45      0.41      1714\n",
            "\n",
            "Границы категорий цен: [(4.7, 5.165], (4.304, 4.7], (-0.001, 4.304], (5.165, 7.6]]\n",
            "Categories (4, interval[float64, right]): [(-0.001, 4.304] < (4.304, 4.7] < (4.7, 5.165] <\n",
            "                                           (5.165, 7.6]]\n"
          ]
        }
      ]
    }
  ]
}