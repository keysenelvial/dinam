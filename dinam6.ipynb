{
  "nbformat": 4,
  "nbformat_minor": 0,
  "metadata": {
    "colab": {
      "provenance": [],
      "mount_file_id": "1TJI9-5DNxloKEr6alw6QOQTR03FzX98N",
      "authorship_tag": "ABX9TyOsYma9Ij/juHAFGq/rnWKf",
      "include_colab_link": true
    },
    "kernelspec": {
      "name": "python3",
      "display_name": "Python 3"
    },
    "language_info": {
      "name": "python"
    }
  },
  "cells": [
    {
      "cell_type": "markdown",
      "metadata": {
        "id": "view-in-github",
        "colab_type": "text"
      },
      "source": [
        "<a href=\"https://colab.research.google.com/github/keysenelvial/dinam/blob/main/dinam6.ipynb\" target=\"_parent\"><img src=\"https://colab.research.google.com/assets/colab-badge.svg\" alt=\"Open In Colab\"/></a>"
      ]
    },
    {
      "cell_type": "markdown",
      "source": [
        "**Лабораторная работа №6**"
      ],
      "metadata": {
        "id": "JyVs2DRv9wGp"
      }
    },
    {
      "cell_type": "markdown",
      "source": [
        "Провести классификацию найденного датасета, методами CatBoost."
      ],
      "metadata": {
        "id": "NHyYn1Xm90ag"
      }
    },
    {
      "cell_type": "code",
      "source": [
        "!pip install catboost"
      ],
      "metadata": {
        "colab": {
          "base_uri": "https://localhost:8080/"
        },
        "id": "9MjJlsiB8o3h",
        "outputId": "6a57a3e8-8588-4180-f199-bc625fdd4662"
      },
      "execution_count": 2,
      "outputs": [
        {
          "output_type": "stream",
          "name": "stdout",
          "text": [
            "Collecting catboost\n",
            "  Downloading catboost-1.2.5-cp310-cp310-manylinux2014_x86_64.whl (98.2 MB)\n",
            "\u001b[2K     \u001b[90m━━━━━━━━━━━━━━━━━━━━━━━━━━━━━━━━━━━━━━━━\u001b[0m \u001b[32m98.2/98.2 MB\u001b[0m \u001b[31m2.7 MB/s\u001b[0m eta \u001b[36m0:00:00\u001b[0m\n",
            "\u001b[?25hRequirement already satisfied: graphviz in /usr/local/lib/python3.10/dist-packages (from catboost) (0.20.3)\n",
            "Requirement already satisfied: matplotlib in /usr/local/lib/python3.10/dist-packages (from catboost) (3.7.1)\n",
            "Requirement already satisfied: numpy>=1.16.0 in /usr/local/lib/python3.10/dist-packages (from catboost) (1.25.2)\n",
            "Requirement already satisfied: pandas>=0.24 in /usr/local/lib/python3.10/dist-packages (from catboost) (2.0.3)\n",
            "Requirement already satisfied: scipy in /usr/local/lib/python3.10/dist-packages (from catboost) (1.11.4)\n",
            "Requirement already satisfied: plotly in /usr/local/lib/python3.10/dist-packages (from catboost) (5.15.0)\n",
            "Requirement already satisfied: six in /usr/local/lib/python3.10/dist-packages (from catboost) (1.16.0)\n",
            "Requirement already satisfied: python-dateutil>=2.8.2 in /usr/local/lib/python3.10/dist-packages (from pandas>=0.24->catboost) (2.8.2)\n",
            "Requirement already satisfied: pytz>=2020.1 in /usr/local/lib/python3.10/dist-packages (from pandas>=0.24->catboost) (2023.4)\n",
            "Requirement already satisfied: tzdata>=2022.1 in /usr/local/lib/python3.10/dist-packages (from pandas>=0.24->catboost) (2024.1)\n",
            "Requirement already satisfied: contourpy>=1.0.1 in /usr/local/lib/python3.10/dist-packages (from matplotlib->catboost) (1.2.1)\n",
            "Requirement already satisfied: cycler>=0.10 in /usr/local/lib/python3.10/dist-packages (from matplotlib->catboost) (0.12.1)\n",
            "Requirement already satisfied: fonttools>=4.22.0 in /usr/local/lib/python3.10/dist-packages (from matplotlib->catboost) (4.51.0)\n",
            "Requirement already satisfied: kiwisolver>=1.0.1 in /usr/local/lib/python3.10/dist-packages (from matplotlib->catboost) (1.4.5)\n",
            "Requirement already satisfied: packaging>=20.0 in /usr/local/lib/python3.10/dist-packages (from matplotlib->catboost) (24.0)\n",
            "Requirement already satisfied: pillow>=6.2.0 in /usr/local/lib/python3.10/dist-packages (from matplotlib->catboost) (9.4.0)\n",
            "Requirement already satisfied: pyparsing>=2.3.1 in /usr/local/lib/python3.10/dist-packages (from matplotlib->catboost) (3.1.2)\n",
            "Requirement already satisfied: tenacity>=6.2.0 in /usr/local/lib/python3.10/dist-packages (from plotly->catboost) (8.3.0)\n",
            "Installing collected packages: catboost\n",
            "Successfully installed catboost-1.2.5\n"
          ]
        }
      ]
    },
    {
      "cell_type": "code",
      "execution_count": 4,
      "metadata": {
        "colab": {
          "base_uri": "https://localhost:8080/"
        },
        "id": "wSucJvVKwIQl",
        "outputId": "9704be2e-685a-40ce-f6ff-b03249c1ed8b"
      },
      "outputs": [
        {
          "output_type": "stream",
          "name": "stdout",
          "text": [
            "         id  log_price property_type        room_type  \\\n",
            "0   6901257   5.010635     Apartment  Entire home/apt   \n",
            "1   6304928   5.129899     Apartment  Entire home/apt   \n",
            "2   7919400   4.976734     Apartment  Entire home/apt   \n",
            "3  13418779   6.620073         House  Entire home/apt   \n",
            "4   3808709   4.744932     Apartment  Entire home/apt   \n",
            "\n",
            "                                           amenities  accommodates  bathrooms  \\\n",
            "0  {\"Wireless Internet\",\"Air conditioning\",Kitche...             3        1.0   \n",
            "1  {\"Wireless Internet\",\"Air conditioning\",Kitche...             7        1.0   \n",
            "2  {TV,\"Cable TV\",\"Wireless Internet\",\"Air condit...             5        1.0   \n",
            "3  {TV,\"Cable TV\",Internet,\"Wireless Internet\",Ki...             4        1.0   \n",
            "4  {TV,Internet,\"Wireless Internet\",\"Air conditio...             2        1.0   \n",
            "\n",
            "   bed_type cancellation_policy  cleaning_fee  ...   latitude   longitude  \\\n",
            "0  Real Bed              strict          True  ...  40.696524  -73.991617   \n",
            "1  Real Bed              strict          True  ...  40.766115  -73.989040   \n",
            "2  Real Bed            moderate          True  ...  40.808110  -73.943756   \n",
            "3  Real Bed            flexible          True  ...  37.772004 -122.431619   \n",
            "4  Real Bed            moderate          True  ...  38.925627  -77.034596   \n",
            "\n",
            "                                       name     neighbourhood  \\\n",
            "0            Beautiful brownstone 1-bedroom  Brooklyn Heights   \n",
            "1  Superb 3BR Apt Located Near Times Square    Hell's Kitchen   \n",
            "2                          The Garden Oasis            Harlem   \n",
            "3        Beautiful Flat in the Heart of SF!      Lower Haight   \n",
            "4                Great studio in midtown DC  Columbia Heights   \n",
            "\n",
            "  number_of_reviews review_scores_rating  \\\n",
            "0                 2                100.0   \n",
            "1                 6                 93.0   \n",
            "2                10                 92.0   \n",
            "3                 0                  NaN   \n",
            "4                 4                 40.0   \n",
            "\n",
            "                                       thumbnail_url  zipcode bedrooms  beds  \n",
            "0  https://a0.muscache.com/im/pictures/6d7cbbf7-c...    11201      1.0   1.0  \n",
            "1  https://a0.muscache.com/im/pictures/348a55fe-4...    10019      3.0   3.0  \n",
            "2  https://a0.muscache.com/im/pictures/6fae5362-9...    10027      1.0   3.0  \n",
            "3  https://a0.muscache.com/im/pictures/72208dad-9...  94117.0      2.0   2.0  \n",
            "4                                                NaN    20009      0.0   1.0  \n",
            "\n",
            "[5 rows x 29 columns]\n",
            "Лучшие параметры: {'depth': 8, 'iterations': 100, 'learning_rate': 0.01}\n",
            "              precision    recall  f1-score   support\n",
            "\n",
            "           0       0.39      0.81      0.53       404\n",
            "           1       0.31      0.09      0.14       459\n",
            "           2       0.39      0.33      0.36       423\n",
            "           3       0.67      0.61      0.64       428\n",
            "\n",
            "    accuracy                           0.45      1714\n",
            "   macro avg       0.44      0.46      0.42      1714\n",
            "weighted avg       0.44      0.45      0.41      1714\n",
            "\n",
            "Границы категорий цен: [(4.7, 5.165], (4.304, 4.7], (-0.001, 4.304], (5.165, 7.6]]\n",
            "Categories (4, interval[float64, right]): [(-0.001, 4.304] < (4.304, 4.7] < (4.7, 5.165] <\n",
            "                                           (5.165, 7.6]]\n"
          ]
        }
      ],
      "source": [
        "import numpy as np\n",
        "import pandas as pd\n",
        "from catboost import CatBoostClassifier\n",
        "from sklearn.metrics import accuracy_score, classification_report\n",
        "from sklearn.model_selection import train_test_split, GridSearchCV\n",
        "\n",
        "\n",
        "data = pd.read_csv('/content/drive/MyDrive/train 3.csv', on_bad_lines='skip')\n",
        "print(data.head())\n",
        "\n",
        "\n",
        "data = data[['log_price', 'accommodates', 'bathrooms', 'bedrooms', 'beds', 'review_scores_rating', 'property_type']].dropna()\n",
        "\n",
        "# Уменьшение размера датасета\n",
        "sampled_data = data.sample(frac=0.15, random_state=42)\n",
        "sampled_data['price_category'] = pd.qcut(sampled_data['log_price'], q=4, labels=False)\n",
        "\n",
        "# Подготовка признаков и целевой переменной\n",
        "X = sampled_data[['accommodates', 'bathrooms', 'bedrooms', 'beds']]\n",
        "y = sampled_data['price_category']\n",
        "\n",
        "# Разделение данных\n",
        "X_train, X_test, y_train, y_test = train_test_split(X, y, test_size=0.2, random_state=42)\n",
        "\n",
        "# Подготовка модели CatBoost и GridSearchCV\n",
        "model = CatBoostClassifier(\n",
        "    iterations=100,\n",
        "    learning_rate=0.1,\n",
        "    depth=6,\n",
        "    silent=True,\n",
        "    task_type=\"CPU\",\n",
        "    random_state=42\n",
        ")\n",
        "\n",
        "\n",
        "params = {\n",
        "    'depth': [4, 6, 8],\n",
        "    'learning_rate': [0.01, 0.1, 0.2],\n",
        "    'iterations': [50, 100, 200]\n",
        "}\n",
        "\n",
        "grid_search = GridSearchCV(model, param_grid=params, cv=5, scoring='accuracy')\n",
        "grid_search.fit(X_train, y_train)\n",
        "\n",
        "print('Лучшие параметры:', grid_search.best_params_)\n",
        "\n",
        "# Обучение модели с лучшими параметрами\n",
        "best_model = grid_search.best_estimator_\n",
        "best_model.fit(X_train, y_train)\n",
        "\n",
        "y_pred = best_model.predict(X_test)\n",
        "\n",
        "print(classification_report(y_test, y_pred))\n",
        "print(\"Границы категорий цен:\", pd.qcut(data['log_price'], q=4).unique())\n"
      ]
    }
  ]
}