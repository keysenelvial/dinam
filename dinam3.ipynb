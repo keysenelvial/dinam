{
  "nbformat": 4,
  "nbformat_minor": 0,
  "metadata": {
    "colab": {
      "provenance": [],
      "mount_file_id": "https://github.com/keysenelvial/dinam/blob/main/dinam3.ipynb",
      "authorship_tag": "ABX9TyPILm+phzR/KpYXrw49/5pZ",
      "include_colab_link": true
    },
    "kernelspec": {
      "name": "python3",
      "display_name": "Python 3"
    },
    "language_info": {
      "name": "python"
    }
  },
  "cells": [
    {
      "cell_type": "markdown",
      "metadata": {
        "id": "view-in-github",
        "colab_type": "text"
      },
      "source": [
        "<a href=\"https://colab.research.google.com/github/keysenelvial/dinam/blob/main/dinam3.ipynb\" target=\"_parent\"><img src=\"https://colab.research.google.com/assets/colab-badge.svg\" alt=\"Open In Colab\"/></a>"
      ]
    },
    {
      "cell_type": "markdown",
      "source": [
        "**Лабораторная работа №3**"
      ],
      "metadata": {
        "id": "-zEns2gUROf3"
      }
    },
    {
      "cell_type": "markdown",
      "source": [
        "Выберите временной ряд цен акций.\n",
        "Подготовьте данные для обучения моделей машинного обучения (нормализация, создание признаков).\n",
        "Разделите данные на обучающую и тестовую выборки. Реализуйте и обучите следующие модели: a) Логистическая регрессия b) Машина опорных векторов c) Модель случайного леса (Random Forest) d) Градиентный бустинг (например, XGBoost) Настройте гиперпараметры моделей с помощью кросс-валидации. Сделайте прогноз на тестовой выборке для каждой модели. Сравните результаты прогнозирования моделей между собой и с простыми методами (например, наивный прогноз). Визуализируйте результаты прогнозирования. Проанализируйте важность признаков для моделей, где это применимо. Сделайте выводы о эффективности различных подходов машинного обучения в прогнозировании цен акций."
      ],
      "metadata": {
        "id": "kUv5HyhmRTOX"
      }
    },
    {
      "cell_type": "code",
      "execution_count": 2,
      "metadata": {
        "colab": {
          "base_uri": "https://localhost:8080/"
        },
        "id": "KZqzKnjiQaDc",
        "outputId": "f27e3f9c-079e-43a9-8d3e-ee9af0148b1d"
      },
      "outputs": [
        {
          "output_type": "stream",
          "name": "stdout",
          "text": [
            "DATETIME\n",
            "2024-07-31 09:30:00    185.27\n",
            "2024-07-31 09:31:00    185.37\n",
            "2024-07-31 09:32:00    184.99\n",
            "2024-07-31 09:33:00    184.88\n",
            "2024-07-31 09:34:00    184.60\n",
            "Name: CLOSE, dtype: float64\n"
          ]
        }
      ],
      "source": [
        "import numpy as np\n",
        "import pandas as pd\n",
        "import matplotlib.pyplot as plt\n",
        "from sklearn.preprocessing import MinMaxScaler\n",
        "from sklearn.model_selection import train_test_split, GridSearchCV\n",
        "from sklearn.ensemble import RandomForestRegressor\n",
        "from sklearn.linear_model import LogisticRegression\n",
        "from sklearn.svm import SVR\n",
        "from sklearn.metrics import mean_absolute_error, mean_squared_error, mean_absolute_percentage_error\n",
        "from xgboost import XGBRegressor\n",
        "\n",
        "# Загрузка и предобработка данных\n",
        "data = pd.read_csv(\"/content/drive/MyDrive/AMZN.csv\", sep=\";\", header=None, names=[\"DATE\", \"TIME\", \"OPEN\", \"HIGH\", \"LOW\", \"CLOSE\", \"VOL\"])\n",
        "data['DATETIME'] = pd.to_datetime(data['DATE'].astype(str) + data['TIME'].astype(str), format='%y%m%d%H%M%S')\n",
        "data.sort_values(by=\"DATETIME\", inplace=True)\n",
        "data.set_index(\"DATETIME\", inplace=True)\n",
        "\n",
        "# Выбираем только цены закрытия для анализа\n",
        "ts = data['CLOSE']\n",
        "print(ts.head())"
      ]
    },
    {
      "cell_type": "code",
      "source": [
        "# Нормализация данных\n",
        "scaler = MinMaxScaler()\n",
        "ts_scaled = scaler.fit_transform(ts.values.reshape(-1, 1))\n",
        "\n",
        "# 2. Создание признаков\n",
        "def create_features(data, look_back=60):\n",
        "    X, y = [], []\n",
        "    for i in range(len(data) - look_back):\n",
        "        X.append(data[i:(i + look_back)])\n",
        "        y.append(data[i + look_back])\n",
        "    return np.array(X), np.array(y)\n",
        "\n",
        "look_back = 60\n",
        "X, y = create_features(ts_scaled, look_back=look_back)\n",
        "\n",
        "# Разделение данных на обучающую и тестовую выборки\n",
        "X_train, X_test, y_train, y_test = train_test_split(X, y, test_size=0.2, shuffle=False)\n"
      ],
      "metadata": {
        "colab": {
          "base_uri": "https://localhost:8080/"
        },
        "id": "nFt0WYfbPZXB",
        "outputId": "f5212739-647a-4b37-a56a-e27752ec376d"
      },
      "execution_count": null,
      "outputs": [
        {
          "output_type": "stream",
          "name": "stdout",
          "text": [
            "Лучшие параметры (логистическая регрессия): {'logistic__C': 0.23357214690901212, 'logistic__solver': 'liblinear'}\n",
            "Лучшая оценка: 0.47819110138584986\n"
          ]
        }
      ]
    },
    {
      "cell_type": "code",
      "source": [
        "# 3. Реализация моделей\n",
        "\n",
        "# 3.1 Логистическая регрессия\n",
        "# Преобразуем задачу в классификацию направления движения цены\n",
        "y_direction = (y_train > np.roll(y_train, 1))[1:].astype(int)\n",
        "X_train_lr = X_train[1:]\n",
        "\n",
        "lr_model = LogisticRegression(random_state=42)\n",
        "lr_model.fit(X_train_lr.reshape(X_train_lr.shape[0], -1), y_direction)\n",
        "\n",
        "# 3.2 Машина опорных векторов (SVM)\n",
        "svm_model = SVR(kernel='rbf', C=1.0, epsilon=0.1)\n",
        "svm_model.fit(X_train.reshape(X_train.shape[0], -1), y_train.ravel())\n",
        "\n",
        "# 3.3 Случайный лес (Random Forest)\n",
        "rf_model = RandomForestRegressor(n_estimators=100, random_state=42)\n",
        "rf_model.fit(X_train.reshape(X_train.shape[0], -1), y_train.ravel())\n",
        "\n",
        "# 3.4 XGBoost\n",
        "xgb_model = XGBRegressor(n_estimators=100, learning_rate=0.1, random_state=42)\n",
        "xgb_model.fit(X_train.reshape(X_train.shape[0], -1), y_train.ravel())\n",
        "\n",
        "# 4. Оценка моделей\n",
        "def evaluate_model(model, X_test, y_test, model_name):\n",
        "    if model_name == 'Logistic Regression':\n",
        "        # Для логистической регрессии прогнозируем направление движения\n",
        "        y_pred_direction = model.predict(X_test.reshape(X_test.shape[0], -1))\n",
        "        y_pred = np.where(y_pred_direction == 1, y_test + 0.01, y_test - 0.01)\n",
        "    else:\n",
        "        y_pred = model.predict(X_test.reshape(X_test.shape[0], -1)).reshape(-1, 1)\n",
        "\n",
        "    mae = mean_absolute_error(y_test, y_pred)\n",
        "    rmse = np.sqrt(mean_squared_error(y_test, y_pred))\n",
        "    mape = mean_absolute_percentage_error(y_test, y_pred)\n",
        "\n",
        "    print(f'{model_name} - MAE: {mae:.4f}, RMSE: {rmse:.4f}, MAPE: {mape:.4f}')\n",
        "    return y_pred\n",
        "\n",
        "lr_pred = evaluate_model(lr_model, X_test, y_test, 'Logistic Regression')\n",
        "svm_pred = evaluate_model(svm_model, X_test, y_test, 'SVM')\n",
        "rf_pred = evaluate_model(rf_model, X_test, y_test, 'Random Forest')\n",
        "xgb_pred = evaluate_model(xgb_model, X_test, y_test, 'XGBoost')\n",
        "\n",
        "# 5. Визуализация результатов\n",
        "plt.figure(figsize=(12, 6))\n",
        "plt.plot(ts.index[-len(y_test):], scaler.inverse_transform(y_test), label='Actual', color='black')\n",
        "plt.plot(ts.index[-len(y_test):], scaler.inverse_transform(lr_pred), label='Logistic Regression', alpha=0.7)\n",
        "plt.plot(ts.index[-len(y_test):], scaler.inverse_transform(svm_pred), label='SVM', alpha=0.7)\n",
        "plt.plot(ts.index[-len(y_test):], scaler.inverse_transform(rf_pred), label='Random Forest', alpha=0.7)\n",
        "plt.plot(ts.index[-len(y_test):], scaler.inverse_transform(xgb_pred), label='XGBoost', alpha=0.7)\n",
        "plt.title('Сравнение прогнозов моделей машинного обучения')\n",
        "plt.xlabel('Дата')\n",
        "plt.ylabel('Цена акции')\n",
        "plt.legend()\n",
        "plt.show()\n",
        "\n",
        "# 6. Анализ важности признаков (для Random Forest)\n",
        "feature_importance = pd.DataFrame({'feature': range(X_train.shape[1]), 'importance': rf_model.feature_importances_})\n",
        "feature_importance = feature_importance.sort_values('importance', ascending=False).head(10)\n",
        "\n",
        "plt.figure(figsize=(10, 6))\n",
        "plt.bar(feature_importance['feature'], feature_importance['importance'])\n",
        "plt.title('Топ-10 важных признаков (Random Forest)')\n",
        "plt.xlabel('Индекс признака')\n",
        "plt.ylabel('Важность')\n",
        "plt.show()"
      ],
      "metadata": {
        "id": "GlmJ1OMfyI7b"
      },
      "execution_count": null,
      "outputs": []
    }
  ]
}