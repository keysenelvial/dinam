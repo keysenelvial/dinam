{
  "nbformat": 4,
  "nbformat_minor": 0,
  "metadata": {
    "colab": {
      "provenance": [],
      "mount_file_id": "1sO2LwgZhmdfAFNe5UqZym1uU8SOriTMR",
      "authorship_tag": "ABX9TyMgVtfWIXRgs9DL0zMWpD9u",
      "include_colab_link": true
    },
    "kernelspec": {
      "name": "python3",
      "display_name": "Python 3"
    },
    "language_info": {
      "name": "python"
    }
  },
  "cells": [
    {
      "cell_type": "markdown",
      "metadata": {
        "id": "view-in-github",
        "colab_type": "text"
      },
      "source": [
        "<a href=\"https://colab.research.google.com/github/keysenelvial/dinam/blob/main/dinam3.ipynb\" target=\"_parent\"><img src=\"https://colab.research.google.com/assets/colab-badge.svg\" alt=\"Open In Colab\"/></a>"
      ]
    },
    {
      "cell_type": "markdown",
      "source": [
        "**Лабораторная работа №3**"
      ],
      "metadata": {
        "id": "-zEns2gUROf3"
      }
    },
    {
      "cell_type": "markdown",
      "source": [
        "Провести классификацию найденного датасета, методами линеной и логистической регрессий . В формате Markdown написать пояснения. Объяснить почему были выбраны именно такие гиперпараметры, была ли перекрестная проверка, и т.д."
      ],
      "metadata": {
        "id": "kUv5HyhmRTOX"
      }
    },
    {
      "cell_type": "code",
      "execution_count": 12,
      "metadata": {
        "colab": {
          "base_uri": "https://localhost:8080/"
        },
        "id": "KZqzKnjiQaDc",
        "outputId": "281c39d5-af88-498b-ac79-2c2c2b4d2aff"
      },
      "outputs": [
        {
          "output_type": "stream",
          "name": "stdout",
          "text": [
            "         id  log_price property_type        room_type  \\\n",
            "0   6901257   5.010635     Apartment  Entire home/apt   \n",
            "1   6304928   5.129899     Apartment  Entire home/apt   \n",
            "2   7919400   4.976734     Apartment  Entire home/apt   \n",
            "3  13418779   6.620073         House  Entire home/apt   \n",
            "4   3808709   4.744932     Apartment  Entire home/apt   \n",
            "\n",
            "                                           amenities  accommodates  bathrooms  \\\n",
            "0  {\"Wireless Internet\",\"Air conditioning\",Kitche...             3        1.0   \n",
            "1  {\"Wireless Internet\",\"Air conditioning\",Kitche...             7        1.0   \n",
            "2  {TV,\"Cable TV\",\"Wireless Internet\",\"Air condit...             5        1.0   \n",
            "3  {TV,\"Cable TV\",Internet,\"Wireless Internet\",Ki...             4        1.0   \n",
            "4  {TV,Internet,\"Wireless Internet\",\"Air conditio...             2        1.0   \n",
            "\n",
            "   bed_type cancellation_policy  cleaning_fee  ...   latitude   longitude  \\\n",
            "0  Real Bed              strict          True  ...  40.696524  -73.991617   \n",
            "1  Real Bed              strict          True  ...  40.766115  -73.989040   \n",
            "2  Real Bed            moderate          True  ...  40.808110  -73.943756   \n",
            "3  Real Bed            flexible          True  ...  37.772004 -122.431619   \n",
            "4  Real Bed            moderate          True  ...  38.925627  -77.034596   \n",
            "\n",
            "                                       name     neighbourhood  \\\n",
            "0            Beautiful brownstone 1-bedroom  Brooklyn Heights   \n",
            "1  Superb 3BR Apt Located Near Times Square    Hell's Kitchen   \n",
            "2                          The Garden Oasis            Harlem   \n",
            "3        Beautiful Flat in the Heart of SF!      Lower Haight   \n",
            "4                Great studio in midtown DC  Columbia Heights   \n",
            "\n",
            "  number_of_reviews review_scores_rating  \\\n",
            "0                 2                100.0   \n",
            "1                 6                 93.0   \n",
            "2                10                 92.0   \n",
            "3                 0                  NaN   \n",
            "4                 4                 40.0   \n",
            "\n",
            "                                       thumbnail_url  zipcode bedrooms  beds  \n",
            "0  https://a0.muscache.com/im/pictures/6d7cbbf7-c...    11201      1.0   1.0  \n",
            "1  https://a0.muscache.com/im/pictures/348a55fe-4...    10019      3.0   3.0  \n",
            "2  https://a0.muscache.com/im/pictures/6fae5362-9...    10027      1.0   3.0  \n",
            "3  https://a0.muscache.com/im/pictures/72208dad-9...  94117.0      2.0   2.0  \n",
            "4                                                NaN    20009      0.0   1.0  \n",
            "\n",
            "[5 rows x 29 columns]\n"
          ]
        }
      ],
      "source": [
        "import numpy as np\n",
        "import pandas as pd\n",
        "import matplotlib.pyplot as plt\n",
        "from sklearn.linear_model import LogisticRegression, RidgeClassifier\n",
        "from sklearn.preprocessing import StandardScaler\n",
        "from sklearn.metrics import accuracy_score, classification_report\n",
        "from sklearn.model_selection import train_test_split, GridSearchCV, StratifiedKFold\n",
        "from sklearn.pipeline import Pipeline\n",
        "from sklearn.metrics import make_scorer, accuracy_score\n",
        "\n",
        "\n",
        "data = pd.read_csv('/content/drive/MyDrive/train 3.csv', on_bad_lines='skip')\n",
        "print(data.head())\n",
        "\n",
        "\n",
        "# Предобработка данных\n",
        "data = data[['log_price', 'accommodates', 'bathrooms', 'bedrooms', 'beds', 'review_scores_rating', 'property_type']].dropna()\n",
        "\n",
        "# Уменьшение размера датасета: выбор 15% случайных строк\n",
        "sampled_data = data.sample(frac=0.15, random_state=42)\n",
        "\n",
        "# Разделение цены на категории\n",
        "sampled_data['price_category'] = pd.qcut(sampled_data['log_price'], q=4, labels=False)\n",
        "\n",
        "# Подготовка признаков и целевой переменной\n",
        "X = sampled_data[['accommodates', 'bathrooms', 'bedrooms', 'beds']]\n",
        "y = sampled_data['price_category']\n",
        "\n",
        "# Разделение данных\n",
        "X_train, X_test, y_train, y_test = train_test_split(X, y, test_size=0.2, random_state=42)\n",
        "\n"
      ]
    },
    {
      "cell_type": "code",
      "source": [
        "# Создание пайплайна для логистической регрессии\n",
        "logistic_pipe = Pipeline([\n",
        "    ('scaler', StandardScaler()),\n",
        "    ('logistic', LogisticRegression())\n",
        "])\n",
        "\n",
        "# Параметры для GridSearchCV для логистической регрессии\n",
        "logistic_params = {\n",
        "    'logistic__C': np.logspace(-4, 4, 20),\n",
        "    'logistic__solver': ['liblinear', 'saga']  # хорошо подходят для маленьких датасетов\n",
        "}\n",
        "\n",
        "# Использование стратифицированной кросс-валидации\n",
        "cv_strategy = StratifiedKFold(n_splits=5)\n",
        "\n",
        "logistic_grid_search = GridSearchCV(logistic_pipe, param_grid=logistic_params, cv=cv_strategy, scoring='accuracy', n_jobs=-1)\n",
        "logistic_grid_search.fit(X_train, y_train)\n",
        "\n",
        "print('Лучшие параметры (логистическая регрессия):', logistic_grid_search.best_params_)\n",
        "print('Лучшая оценка:', logistic_grid_search.best_score_)"
      ],
      "metadata": {
        "colab": {
          "base_uri": "https://localhost:8080/"
        },
        "id": "nFt0WYfbPZXB",
        "outputId": "f5212739-647a-4b37-a56a-e27752ec376d"
      },
      "execution_count": 13,
      "outputs": [
        {
          "output_type": "stream",
          "name": "stdout",
          "text": [
            "Лучшие параметры (логистическая регрессия): {'logistic__C': 0.23357214690901212, 'logistic__solver': 'liblinear'}\n",
            "Лучшая оценка: 0.47819110138584986\n"
          ]
        }
      ]
    },
    {
      "cell_type": "code",
      "source": [
        "# Создание пайплайна для линейной регрессии\n",
        "ridge_pipe = Pipeline([\n",
        "    ('scaler', StandardScaler()),\n",
        "    ('ridge', RidgeClassifier())\n",
        "])\n",
        "\n",
        "# Параметры для GridSearchCV для линейной регрессии\n",
        "ridge_params = {\n",
        "    'ridge__alpha': np.logspace(-4, 4, 20)\n",
        "}\n",
        "\n",
        "ridge_grid_search = GridSearchCV(ridge_pipe, param_grid=ridge_params, cv=5, scoring='accuracy')\n",
        "ridge_grid_search.fit(X_train, y_train)\n",
        "\n",
        "print('Лучшие параметры (линейная регрессия):', ridge_grid_search.best_params_)\n",
        "print('Лучшая оценка:', ridge_grid_search.best_score_)"
      ],
      "metadata": {
        "colab": {
          "base_uri": "https://localhost:8080/"
        },
        "id": "PFBXmyAtPcoO",
        "outputId": "9bf25f63-8810-4397-f9e8-1cd83a7f6897"
      },
      "execution_count": 14,
      "outputs": [
        {
          "output_type": "stream",
          "name": "stdout",
          "text": [
            "Лучшие параметры (линейная регрессия): {'ridge__alpha': 545.5594781168514}\n",
            "Лучшая оценка: 0.47293946024799427\n"
          ]
        }
      ]
    },
    {
      "cell_type": "code",
      "source": [
        "# Выбираем модель на основе лучшего результата\n",
        "if logistic_grid_search.best_score_ > ridge_grid_search.best_score_:\n",
        "    best_pipe = logistic_grid_search.best_estimator_\n",
        "    model_name = 'Логистическая регрессия'\n",
        "else:\n",
        "    best_pipe = ridge_grid_search.best_estimator_\n",
        "    model_name = 'Линейная регрессия'\n",
        "\n",
        "y_pred = best_pipe.predict(X_test)\n",
        "\n",
        "print(f'Итоговые результаты классификации ({model_name}):')\n",
        "print(classification_report(y_test, y_pred))\n",
        "print(\"Границы категорий цен:\", pd.qcut(data['log_price'], q=4).unique())"
      ],
      "metadata": {
        "colab": {
          "base_uri": "https://localhost:8080/"
        },
        "id": "5xUSraMVPe7M",
        "outputId": "5fab18f1-f0d0-46bd-f11d-e4e623897b4d"
      },
      "execution_count": 15,
      "outputs": [
        {
          "output_type": "stream",
          "name": "stdout",
          "text": [
            "Итоговые результаты классификации (Логистическая регрессия):\n",
            "              precision    recall  f1-score   support\n",
            "\n",
            "           0       0.39      0.80      0.52       404\n",
            "           1       0.29      0.10      0.15       459\n",
            "           2       0.39      0.30      0.33       423\n",
            "           3       0.67      0.61      0.64       428\n",
            "\n",
            "    accuracy                           0.44      1714\n",
            "   macro avg       0.43      0.45      0.41      1714\n",
            "weighted avg       0.43      0.44      0.41      1714\n",
            "\n",
            "Границы категорий цен: [(4.7, 5.165], (4.304, 4.7], (-0.001, 4.304], (5.165, 7.6]]\n",
            "Categories (4, interval[float64, right]): [(-0.001, 4.304] < (4.304, 4.7] < (4.7, 5.165] <\n",
            "                                           (5.165, 7.6]]\n"
          ]
        }
      ]
    }
  ]
}