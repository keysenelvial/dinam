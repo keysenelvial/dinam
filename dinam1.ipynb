{
  "nbformat": 4,
  "nbformat_minor": 0,
  "metadata": {
    "colab": {
      "provenance": [],
      "mount_file_id": "1dCvkxltB8AW5dPlXgdEh-tnSsYwLPOsb",
      "authorship_tag": "ABX9TyMLvh9ydSQlZFkQjlh0uWuP",
      "include_colab_link": true
    },
    "kernelspec": {
      "name": "python3",
      "display_name": "Python 3"
    },
    "language_info": {
      "name": "python"
    }
  },
  "cells": [
    {
      "cell_type": "markdown",
      "metadata": {
        "id": "view-in-github",
        "colab_type": "text"
      },
      "source": [
        "<a href=\"https://colab.research.google.com/github/keysenelvial/dinam/blob/main/dinam1.ipynb\" target=\"_parent\"><img src=\"https://colab.research.google.com/assets/colab-badge.svg\" alt=\"Open In Colab\"/></a>"
      ]
    },
    {
      "cell_type": "markdown",
      "source": [
        "**Лабораторная работа №1**"
      ],
      "metadata": {
        "id": "Zt4_72OSPNoV"
      }
    },
    {
      "cell_type": "markdown",
      "source": [
        "Необходимо провести классификацию найденного датасета, методом к- ближайших соседей. В формате Markdown писать пояснения. Объяснить почему были выбраны именно такие гиперпараметры, была ли перекрестная проверка, и т.д."
      ],
      "metadata": {
        "id": "3mqarwO-PgFr"
      }
    },
    {
      "cell_type": "markdown",
      "source": [
        "Загрузка и предобработка данных:\n",
        "\n",
        "*   из исходного DataFrame выбираются только интересующие столбцы и удаляются строки, в которых есть хотя бы одно пропущенное значение в выбранных столбцах с помощью dropna().\n",
        "*   преобразование категориальных данных в столбце 'city' в числовой формат.\n",
        "* разделение данных на признаки и целевую переменную."
      ],
      "metadata": {
        "id": "Y6bCJQJI7IEJ"
      }
    },
    {
      "cell_type": "code",
      "source": [
        "import numpy as np\n",
        "import pandas as pd\n",
        "import matplotlib.pyplot as plt\n",
        "from sklearn.neighbors import KNeighborsClassifier\n",
        "from sklearn.preprocessing import StandardScaler\n",
        "from sklearn.metrics import accuracy_score, classification_report\n",
        "from sklearn.model_selection import train_test_split, GridSearchCV\n",
        "from sklearn.pipeline import Pipeline\n",
        "from sklearn.metrics import make_scorer, accuracy_score\n",
        "import numpy as np\n",
        "import matplotlib.pyplot as plt\n",
        "\n",
        "\n",
        "data = pd.read_csv('/content/drive/MyDrive/train 3.csv', on_bad_lines='skip')\n",
        "print(data.head())\n",
        "\n",
        "data = data[['log_price', 'accommodates', 'bathrooms', 'bedrooms', 'beds', 'review_scores_rating', 'property_type']].dropna()\n",
        "\n",
        "# Разделение цены на категории по квантилям\n",
        "data['price_category'] = pd.qcut(data['log_price'], q=4, labels=False)  # разделение на 4 категории\n",
        "# Подготовка признаков и целевой переменной\n",
        "X = data[['accommodates', 'bathrooms', 'bedrooms', 'beds']]\n",
        "y = data['price_category']"
      ],
      "metadata": {
        "colab": {
          "base_uri": "https://localhost:8080/"
        },
        "id": "X4xl4ee6x-CO",
        "outputId": "15377dc4-656a-40e7-eec3-d6f5cefb2a38"
      },
      "execution_count": 4,
      "outputs": [
        {
          "output_type": "stream",
          "name": "stdout",
          "text": [
            "         id  log_price property_type        room_type  \\\n",
            "0   6901257   5.010635     Apartment  Entire home/apt   \n",
            "1   6304928   5.129899     Apartment  Entire home/apt   \n",
            "2   7919400   4.976734     Apartment  Entire home/apt   \n",
            "3  13418779   6.620073         House  Entire home/apt   \n",
            "4   3808709   4.744932     Apartment  Entire home/apt   \n",
            "\n",
            "                                           amenities  accommodates  bathrooms  \\\n",
            "0  {\"Wireless Internet\",\"Air conditioning\",Kitche...             3        1.0   \n",
            "1  {\"Wireless Internet\",\"Air conditioning\",Kitche...             7        1.0   \n",
            "2  {TV,\"Cable TV\",\"Wireless Internet\",\"Air condit...             5        1.0   \n",
            "3  {TV,\"Cable TV\",Internet,\"Wireless Internet\",Ki...             4        1.0   \n",
            "4  {TV,Internet,\"Wireless Internet\",\"Air conditio...             2        1.0   \n",
            "\n",
            "   bed_type cancellation_policy  cleaning_fee  ...   latitude   longitude  \\\n",
            "0  Real Bed              strict          True  ...  40.696524  -73.991617   \n",
            "1  Real Bed              strict          True  ...  40.766115  -73.989040   \n",
            "2  Real Bed            moderate          True  ...  40.808110  -73.943756   \n",
            "3  Real Bed            flexible          True  ...  37.772004 -122.431619   \n",
            "4  Real Bed            moderate          True  ...  38.925627  -77.034596   \n",
            "\n",
            "                                       name     neighbourhood  \\\n",
            "0            Beautiful brownstone 1-bedroom  Brooklyn Heights   \n",
            "1  Superb 3BR Apt Located Near Times Square    Hell's Kitchen   \n",
            "2                          The Garden Oasis            Harlem   \n",
            "3        Beautiful Flat in the Heart of SF!      Lower Haight   \n",
            "4                Great studio in midtown DC  Columbia Heights   \n",
            "\n",
            "  number_of_reviews review_scores_rating  \\\n",
            "0                 2                100.0   \n",
            "1                 6                 93.0   \n",
            "2                10                 92.0   \n",
            "3                 0                  NaN   \n",
            "4                 4                 40.0   \n",
            "\n",
            "                                       thumbnail_url  zipcode bedrooms  beds  \n",
            "0  https://a0.muscache.com/im/pictures/6d7cbbf7-c...    11201      1.0   1.0  \n",
            "1  https://a0.muscache.com/im/pictures/348a55fe-4...    10019      3.0   3.0  \n",
            "2  https://a0.muscache.com/im/pictures/6fae5362-9...    10027      1.0   3.0  \n",
            "3  https://a0.muscache.com/im/pictures/72208dad-9...  94117.0      2.0   2.0  \n",
            "4                                                NaN    20009      0.0   1.0  \n",
            "\n",
            "[5 rows x 29 columns]\n"
          ]
        }
      ]
    },
    {
      "cell_type": "markdown",
      "source": [
        "Использование функции train_test_split из библиотеки sklearn.model_selection для разделения данных на обучающую (X_train, y_train) и тестовую (X_test, y_test) выборки. Аргумент test_size=0.2 указывает, что 20% данных должны быть использованы для тестовой выборки. Параметр random_state=42 обеспечивает воспроизводимость результатов разделения."
      ],
      "metadata": {
        "id": "8h0_den497gN"
      }
    },
    {
      "cell_type": "markdown",
      "source": [
        "Нормализация данных с помощью StandardScaler()"
      ],
      "metadata": {
        "id": "vfN5djsX-vL6"
      }
    },
    {
      "cell_type": "code",
      "source": [
        "# Разделение данных\n",
        "X_train, X_test, y_train, y_test = train_test_split(X, y, test_size=0.2, random_state=42)\n",
        "\n",
        "# Создание пайплайна, включающего нормализацию данных и классификатор\n",
        "pipe = Pipeline([\n",
        "    ('scaler', StandardScaler()),\n",
        "    ('knn', KNeighborsClassifier())\n",
        "])\n"
      ],
      "metadata": {
        "colab": {
          "base_uri": "https://localhost:8080/"
        },
        "id": "Fsfe-Mq8_Cgu",
        "outputId": "de599c66-9a05-48d4-accf-6c74bb5ee45b"
      },
      "execution_count": 14,
      "outputs": [
        {
          "output_type": "stream",
          "name": "stdout",
          "text": [
            "Лучшие параметры: {'knn__metric': 'manhattan', 'knn__n_neighbors': 17}\n",
            "Лучшая модель: Pipeline(steps=[('scaler', StandardScaler()),\n",
            "                ('knn',\n",
            "                 KNeighborsClassifier(metric='manhattan', n_neighbors=17))])\n"
          ]
        }
      ]
    },
    {
      "cell_type": "code",
      "source": [
        "# Параметры для GridSearchCV\n",
        "params = {\n",
        "    'knn__n_neighbors': list(range(1, 20)),\n",
        "    'knn__metric': ['euclidean', 'minkowski', 'manhattan']\n",
        "}\n",
        "\n",
        "\n",
        "grid_search = GridSearchCV(pipe, param_grid=params, cv=5)  # cv - число фолдов кросс-валидации\n",
        "\n",
        "\n",
        "grid_search.fit(X_train, y_train)\n",
        "\n",
        "\n",
        "print('Лучшие параметры:', grid_search.best_params_)"
      ],
      "metadata": {
        "id": "Eu5v8euSzZgc"
      },
      "execution_count": null,
      "outputs": []
    },
    {
      "cell_type": "markdown",
      "source": [
        "Процесс обучения модели классификации на основе алгоритма K-ближайших соседей (KNN), а также её последующая оценка"
      ],
      "metadata": {
        "id": "XK8826OIATJt"
      }
    },
    {
      "cell_type": "code",
      "source": [
        "# Обучение модели\n",
        "optimal_k = grid.best_params_['knn__n_neighbors']\n",
        "pipe.set_params(knn__n_neighbors=optimal_k)\n",
        "pipe.fit(X_train, y_train)\n",
        "\n",
        "\n",
        "y_pred = pipe.predict(X_test)\n",
        "\n",
        "\n",
        "print(classification_report(y_test, y_pred))\n",
        "\n",
        "print(\"Границы категорий цен:\", pd.qcut(data['log_price'], q=4).unique())"
      ],
      "metadata": {
        "colab": {
          "base_uri": "https://localhost:8080/"
        },
        "id": "iLzjn7yt0F6p",
        "outputId": "34a72d28-7a35-4928-985b-bda1b6e4c982"
      },
      "execution_count": 15,
      "outputs": [
        {
          "output_type": "stream",
          "name": "stdout",
          "text": [
            "              precision    recall  f1-score   support\n",
            "\n",
            "           0       0.53      0.40      0.46      2883\n",
            "           1       0.33      0.65      0.43      2875\n",
            "           2       0.34      0.16      0.22      2856\n",
            "           3       0.71      0.54      0.61      2812\n",
            "\n",
            "    accuracy                           0.44     11426\n",
            "   macro avg       0.48      0.44      0.43     11426\n",
            "weighted avg       0.48      0.44      0.43     11426\n",
            "\n",
            "Границы категорий цен: [(4.7, 5.165], (4.304, 4.7], (-0.001, 4.304], (5.165, 7.6]]\n",
            "Categories (4, interval[float64, right]): [(-0.001, 4.304] < (4.304, 4.7] < (4.7, 5.165] <\n",
            "                                           (5.165, 7.6]]\n"
          ]
        }
      ]
    },
    {
      "cell_type": "markdown",
      "source": [
        "* Precision (точность): Показывает долю правильных предсказаний среди всех предсказаний данного класса. Например, для класса 0 точность составляет 0.53, что означает, что 53% предсказанных как класс 0 действительно принадлежат классу 0.\n",
        "* Recall (полнота): Показывает, какая доля реальных объектов данного класса была правильно классифицирована. Для класса 0 полнота составляет  0.40, что указывает на то, что модель смогла правильно определить  40% всех реальных объектов класса 0.\n",
        "* F1-score: Гармоническое среднее между точностью и полнотой. Высокий показатель F1-score указывает на то, что модель действует сбалансированно в отношении точности и полноты. Для класса 0 F1-score составляет 0.46, что указывает на среднюю эффективность модели в этом классе.\n",
        "* Support: Число реальных объектов каждого класса в тестовой выборке. Например, класс 0 содержит 2883 объекта.\n",
        "*   Accuracy (точность всей модели): 0.44, или 44%, что говорит о том, что в 44% случаев модель правильно предсказала класс объекта.\n",
        "*   Macro avg: Среднее значение каждой метрики по всем классам, не учитывающее число объектов в каждом классе. Показатели довольно низкие (особенно F1-score), что может свидетельствовать о неравномерной производительности модели по различным классам.\n",
        "* Weighted avg: Взвешенное среднее каждой метрики, где вес каждого класса пропорционален числу объектов в нём. Эти значения обычно более репрезентативны для несбалансированных данных.\n"
      ],
      "metadata": {
        "id": "spYx4KToDYZt"
      }
    }
  ]
}